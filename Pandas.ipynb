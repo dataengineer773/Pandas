{
 "cells": [
  {
   "cell_type": "markdown",
   "id": "37819999",
   "metadata": {},
   "source": [
    "# Pandas\n",
    "\n",
    "[Pandas](https://pandas.pydata.org/) is a fast, powerful, flexible and easy to use open source data analysis and manipulation tool, built on top of the Python programming language.\n",
    "\n",
    "### Installation:\n",
    "\n",
    "<div class=\"alert alert-block alert-warning\">\n",
    "$ pip install pandas\n",
    "</div>"
   ]
  },
  {
   "cell_type": "code",
   "execution_count": 1,
   "id": "f1dc6686",
   "metadata": {},
   "outputs": [
    {
     "name": "stdout",
     "output_type": "stream",
     "text": [
      "Requirement already satisfied: pandas in /Users/khamir/opt/miniconda3/lib/python3.9/site-packages (1.5.2)\n",
      "Requirement already satisfied: numpy>=1.20.3 in /Users/khamir/opt/miniconda3/lib/python3.9/site-packages (from pandas) (1.23.5)\n",
      "Requirement already satisfied: pytz>=2020.1 in /Users/khamir/opt/miniconda3/lib/python3.9/site-packages (from pandas) (2022.6)\n",
      "Requirement already satisfied: python-dateutil>=2.8.1 in /Users/khamir/opt/miniconda3/lib/python3.9/site-packages (from pandas) (2.8.2)\n",
      "Requirement already satisfied: six>=1.5 in /Users/khamir/opt/miniconda3/lib/python3.9/site-packages (from python-dateutil>=2.8.1->pandas) (1.16.0)\n"
     ]
    }
   ],
   "source": [
    "! pip install pandas"
   ]
  },
  {
   "cell_type": "code",
   "execution_count": 24,
   "id": "82641d90",
   "metadata": {},
   "outputs": [],
   "source": [
    "import pandas as pd\n",
    "import numpy as np"
   ]
  },
  {
   "cell_type": "markdown",
   "id": "c736d241",
   "metadata": {},
   "source": [
    "# Series\n",
    "\n",
    "Defining a Series"
   ]
  },
  {
   "cell_type": "code",
   "execution_count": 3,
   "id": "709c0a7c",
   "metadata": {},
   "outputs": [],
   "source": [
    "s = pd.Series([4, 7, -5, 3])"
   ]
  },
  {
   "cell_type": "code",
   "execution_count": 4,
   "id": "18fa7ddc",
   "metadata": {},
   "outputs": [
    {
     "data": {
      "text/plain": [
       "0    4\n",
       "1    7\n",
       "2   -5\n",
       "3    3\n",
       "dtype: int64"
      ]
     },
     "execution_count": 4,
     "metadata": {},
     "output_type": "execute_result"
    }
   ],
   "source": [
    "s"
   ]
  },
  {
   "cell_type": "code",
   "execution_count": 7,
   "id": "39a2874f",
   "metadata": {},
   "outputs": [
    {
     "data": {
      "text/plain": [
       "-5"
      ]
     },
     "execution_count": 7,
     "metadata": {},
     "output_type": "execute_result"
    }
   ],
   "source": [
    "s[2]"
   ]
  },
  {
   "cell_type": "code",
   "execution_count": 8,
   "id": "fa134686",
   "metadata": {},
   "outputs": [
    {
     "data": {
      "text/plain": [
       "array([ 4,  7, -5,  3])"
      ]
     },
     "execution_count": 8,
     "metadata": {},
     "output_type": "execute_result"
    }
   ],
   "source": [
    "s.values"
   ]
  },
  {
   "cell_type": "code",
   "execution_count": 9,
   "id": "0252c82b",
   "metadata": {},
   "outputs": [
    {
     "data": {
      "text/plain": [
       "RangeIndex(start=0, stop=4, step=1)"
      ]
     },
     "execution_count": 9,
     "metadata": {},
     "output_type": "execute_result"
    }
   ],
   "source": [
    "s.index"
   ]
  },
  {
   "cell_type": "code",
   "execution_count": 10,
   "id": "2ec5107b",
   "metadata": {},
   "outputs": [],
   "source": [
    "s1 = pd.Series([1, 4, -3, 9], index=['a', 'b', 'c', 'd'])"
   ]
  },
  {
   "cell_type": "code",
   "execution_count": 15,
   "id": "96599f2d",
   "metadata": {},
   "outputs": [
    {
     "data": {
      "text/plain": [
       "9"
      ]
     },
     "execution_count": 15,
     "metadata": {},
     "output_type": "execute_result"
    }
   ],
   "source": [
    "s1['d']"
   ]
  },
  {
   "cell_type": "code",
   "execution_count": 16,
   "id": "d2975777",
   "metadata": {},
   "outputs": [
    {
     "data": {
      "text/plain": [
       "Index(['a', 'b', 'c', 'd'], dtype='object')"
      ]
     },
     "execution_count": 16,
     "metadata": {},
     "output_type": "execute_result"
    }
   ],
   "source": [
    "s1.index"
   ]
  },
  {
   "cell_type": "code",
   "execution_count": 17,
   "id": "7c5a1ed9",
   "metadata": {},
   "outputs": [],
   "source": [
    "s1['d'] = -1"
   ]
  },
  {
   "cell_type": "code",
   "execution_count": 18,
   "id": "7ed940f1",
   "metadata": {},
   "outputs": [
    {
     "data": {
      "text/plain": [
       "a    1\n",
       "b    4\n",
       "c   -3\n",
       "d   -1\n",
       "dtype: int64"
      ]
     },
     "execution_count": 18,
     "metadata": {},
     "output_type": "execute_result"
    }
   ],
   "source": [
    "s1"
   ]
  },
  {
   "cell_type": "code",
   "execution_count": 19,
   "id": "bd0e113b",
   "metadata": {},
   "outputs": [
    {
     "data": {
      "text/plain": [
       "a    1\n",
       "d   -1\n",
       "dtype: int64"
      ]
     },
     "execution_count": 19,
     "metadata": {},
     "output_type": "execute_result"
    }
   ],
   "source": [
    "s1[['a', 'd']]"
   ]
  },
  {
   "cell_type": "code",
   "execution_count": 20,
   "id": "cdcc0aed",
   "metadata": {},
   "outputs": [
    {
     "data": {
      "text/plain": [
       "a    1\n",
       "b    4\n",
       "dtype: int64"
      ]
     },
     "execution_count": 20,
     "metadata": {},
     "output_type": "execute_result"
    }
   ],
   "source": [
    "s1[s1>0]"
   ]
  },
  {
   "cell_type": "code",
   "execution_count": 31,
   "id": "32a4fcf6",
   "metadata": {},
   "outputs": [],
   "source": [
    "s2 = pd.Series(np.random.randint(10, 100, (10, )),\n",
    "               pd.date_range(start='2022-12-01 08:00:00', periods=10, freq='1BH'))"
   ]
  },
  {
   "cell_type": "code",
   "execution_count": 32,
   "id": "0cec4475",
   "metadata": {},
   "outputs": [
    {
     "data": {
      "text/plain": [
       "2022-12-01 09:00:00    27\n",
       "2022-12-01 10:00:00    32\n",
       "2022-12-01 11:00:00    35\n",
       "2022-12-01 12:00:00    94\n",
       "2022-12-01 13:00:00    97\n",
       "2022-12-01 14:00:00    57\n",
       "2022-12-01 15:00:00    97\n",
       "2022-12-01 16:00:00    22\n",
       "2022-12-02 09:00:00    28\n",
       "2022-12-02 10:00:00    30\n",
       "Freq: BH, dtype: int64"
      ]
     },
     "execution_count": 32,
     "metadata": {},
     "output_type": "execute_result"
    }
   ],
   "source": [
    "s2"
   ]
  },
  {
   "cell_type": "markdown",
   "id": "c44f592b",
   "metadata": {},
   "source": [
    "# DataFrame\n",
    "\n",
    "Defining a DataFrame using dictionary"
   ]
  },
  {
   "cell_type": "code",
   "execution_count": null,
   "id": "b95043ae",
   "metadata": {},
   "outputs": [],
   "source": []
  },
  {
   "cell_type": "code",
   "execution_count": null,
   "id": "32a51806",
   "metadata": {},
   "outputs": [],
   "source": []
  },
  {
   "cell_type": "markdown",
   "id": "ffd2927e",
   "metadata": {},
   "source": [
    "# Viewing data\n",
    "\n",
    "+ head and tail\n",
    "+ index and columns\n",
    "+ to_numpy\n",
    "+ describe and info\n",
    "+ sorting"
   ]
  },
  {
   "cell_type": "code",
   "execution_count": null,
   "id": "4f3a91ed",
   "metadata": {},
   "outputs": [],
   "source": []
  },
  {
   "cell_type": "markdown",
   "id": "a6a4f854",
   "metadata": {},
   "source": [
    "## Dealing with missing data"
   ]
  },
  {
   "cell_type": "code",
   "execution_count": null,
   "id": "01366b2b",
   "metadata": {
    "scrolled": true
   },
   "outputs": [],
   "source": []
  },
  {
   "cell_type": "markdown",
   "id": "82ebcee2",
   "metadata": {},
   "source": [
    "# Operations\n",
    "\n",
    "+ mean\n",
    "+ std\n",
    "+ apply"
   ]
  },
  {
   "cell_type": "code",
   "execution_count": null,
   "id": "992a62c0",
   "metadata": {},
   "outputs": [],
   "source": []
  },
  {
   "cell_type": "markdown",
   "id": "0a685612",
   "metadata": {},
   "source": [
    "# Merging\n",
    "\n",
    "+ concat\n",
    "+ merge\n",
    "+ append\n",
    "+ join"
   ]
  },
  {
   "cell_type": "code",
   "execution_count": null,
   "id": "9f5a9955",
   "metadata": {},
   "outputs": [],
   "source": []
  },
  {
   "cell_type": "markdown",
   "id": "9ce69967",
   "metadata": {},
   "source": [
    "# Reading and Writing\n",
    "\n",
    "+ read_csv and to_csv\n",
    "+ read_excel"
   ]
  },
  {
   "cell_type": "code",
   "execution_count": null,
   "id": "59647497",
   "metadata": {},
   "outputs": [],
   "source": []
  }
 ],
 "metadata": {
  "kernelspec": {
   "display_name": "Python 3 (ipykernel)",
   "language": "python",
   "name": "python3"
  },
  "language_info": {
   "codemirror_mode": {
    "name": "ipython",
    "version": 3
   },
   "file_extension": ".py",
   "mimetype": "text/x-python",
   "name": "python",
   "nbconvert_exporter": "python",
   "pygments_lexer": "ipython3",
   "version": "3.9.12"
  }
 },
 "nbformat": 4,
 "nbformat_minor": 5
}
